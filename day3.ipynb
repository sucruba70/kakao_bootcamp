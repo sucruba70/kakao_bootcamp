{
 "cells": [
  {
   "cell_type": "markdown",
   "metadata": {},
   "source": [
    "1. 파이썬 기본 문법 복습 및 자료형\n",
    "\n",
    "문제:\n",
    "\n",
    "사용자로부터 이름, 나이, 이메일을 입력받아 딕셔너리에 저장하는 프로그램을 작성하세요.\n",
    "\n",
    "나이와 이메일의 형식을 검증하고, 잘못된 입력이 있으면 예외 처리를 하세요."
   ]
  },
  {
   "cell_type": "code",
   "execution_count": 1,
   "metadata": {},
   "outputs": [],
   "source": [
    "import re\n",
    "\n",
    "def validate_name(name):\n",
    "    name_re = r'^[a-zA-Z가-힣]+$'\n",
    "    if not re.match(name_re, name):\n",
    "        raise ValueError(\"유효하지 않은 이름입니다.\")\n",
    "    return name\n",
    "\n",
    "def validate_age(age):\n",
    "    if not age.isdigit():\n",
    "        raise ValueError(\"유효하지 않은 나이입니다.\")\n",
    "    return int(age)\n",
    "\n",
    "def validate_email(email):\n",
    "    email_re = r'^[a-zA-Z0-9_.+-]+@[a-zA-Z0-9-]+\\.[a-zA-Z]+$'\n",
    "\n",
    "    if not re.match(email_re, email):\n",
    "        raise ValueError('유효하지 않은 주소입니다.')\n",
    "    return email\n",
    "\n",
    "def validate():\n",
    "    try:\n",
    "        name = input(\"이름:\")\n",
    "        age = input(\"나이:\")\n",
    "        email = input(\"e-mail:\")\n",
    "    \n",
    "        name = validate_name(name)\n",
    "        age = validate_age(age)\n",
    "        email = validate_email(email)\n",
    "\n",
    "        dct = {'이름':name, '나이':age, 'e-mail':email}\n",
    "        for key,value in dct.items():\n",
    "            print(f'{key} : {value}')\n",
    "\n",
    "    except ValueError as e:\n",
    "        print(f'오류 : {e}')\n",
    "        return None"
   ]
  },
  {
   "cell_type": "code",
   "execution_count": 2,
   "metadata": {},
   "outputs": [
    {
     "name": "stdout",
     "output_type": "stream",
     "text": [
      "이름 : 장세현\n",
      "나이 : 26\n",
      "e-mail : sucruba70@naver.com\n"
     ]
    }
   ],
   "source": [
    "# 실험\n",
    "validate()"
   ]
  },
  {
   "cell_type": "markdown",
   "metadata": {},
   "source": [
    "2. 함수 및 클래스와 객체지향 프로그래밍\n",
    "\n",
    "문제:\n",
    "\n",
    "간단한 계산기 클래스를 작성하세요. 이 클래스는 덧셈, 뺄셈, 곱셈, 나눗셈 메서드를 포함합니다.\n",
    "\n",
    "사용자로부터 두 숫자와 연산자를 입력받아 계산 결과를 출력하는 프로그램을 작성하세요."
   ]
  },
  {
   "cell_type": "code",
   "execution_count": 4,
   "metadata": {},
   "outputs": [
    {
     "name": "stdout",
     "output_type": "stream",
     "text": [
      "10.0 - 0.3 = 9.7\n"
     ]
    }
   ],
   "source": [
    "class Calculator:\n",
    "    def __init__(self):\n",
    "        pass\n",
    "\n",
    "    def add(self, x, y):\n",
    "        return x+y\n",
    "    \n",
    "    def subtract(self, x, y):\n",
    "        return x-y\n",
    "    \n",
    "    def multiply(self, x, y):\n",
    "        return x*y\n",
    "    \n",
    "    def divide(self, x, y):\n",
    "        if y == 0:\n",
    "            raise ZeroDivisionError(\"0으로 나눌 수 없습니다.\")\n",
    "        return x/y\n",
    "    \n",
    "try:\n",
    "    num1 = float(input(\"숫자를 입력하세요:\"))\n",
    "    num2 = float(input(\"숫자를 입력하세요\"))\n",
    "    op = input(\"연산자를 입력하세요:\")\n",
    "\n",
    "    cal = Calculator()\n",
    "\n",
    "    if op == '+':\n",
    "        result = cal.add(num1,num2)\n",
    "    elif op == '-':\n",
    "        result = cal.subtract(num1,num2)\n",
    "    elif op == '*':\n",
    "        result = cal.multiply(num1,num2)\n",
    "    elif op == '/':\n",
    "        result = cal.divide(num1,num2)\n",
    "    else:\n",
    "        raise ValueError(\"유효하지 않은 연산자입니다.\")\n",
    "    \n",
    "    print(f'{num1} {op} {num2} = {result}')\n",
    "\n",
    "except (ValueError, ZeroDivisionError) as e:\n",
    "    print(f'오류 : {e}')"
   ]
  },
  {
   "cell_type": "markdown",
   "metadata": {},
   "source": [
    "3. 제너레이터와 이터레이터\n",
    "\n",
    "문제:\n",
    "\n",
    "피보나치 수열을 생성하는 제너레이터 함수를 작성하세요.\n",
    "피보나치 수열의 첫 10개 값을 출력하세요."
   ]
  },
  {
   "cell_type": "code",
   "execution_count": 5,
   "metadata": {},
   "outputs": [
    {
     "name": "stdout",
     "output_type": "stream",
     "text": [
      "0\n",
      "1\n",
      "1\n",
      "2\n",
      "3\n",
      "5\n",
      "8\n",
      "13\n",
      "21\n",
      "34\n"
     ]
    }
   ],
   "source": [
    "def fibonacci():\n",
    "    a,b = 0,1\n",
    "    while True:\n",
    "        yield a\n",
    "        a,b = b, a+b\n",
    "\n",
    "fib = fibonacci()\n",
    "for _ in range(10):\n",
    "    print(next(fib))"
   ]
  },
  {
   "cell_type": "markdown",
   "metadata": {},
   "source": [
    "4. 파일 입출력\n",
    "\n",
    "문제:\n",
    "\n",
    "사용자로부터 입력받은 데이터를 파일에 저장하고, 파일 내용을 읽어 출력하는 프로그램을 작성하세요.\n",
    "\n",
    "데이터는 JSON 형식으로 저장하세요"
   ]
  },
  {
   "cell_type": "code",
   "execution_count": 7,
   "metadata": {},
   "outputs": [
    {
     "name": "stdout",
     "output_type": "stream",
     "text": [
      "저장을 완료했습니다.\n",
      "{\n",
      "    \"이름\": \"장세현\",\n",
      "    \"나이\": 26,\n",
      "    \"e-mail\": \"sucruba70@naver.com\"\n",
      "}\n"
     ]
    }
   ],
   "source": [
    "import json\n",
    "import re\n",
    "\n",
    "try:\n",
    "    # 1번에 만든 함수 활용\n",
    "\n",
    "    name = input(\"이름:\")\n",
    "    age = input(\"나이:\")\n",
    "    email = input(\"e-mail:\")\n",
    "\n",
    "    name = validate_name(name)\n",
    "    age = validate_age(age)\n",
    "    email = validate_email(email)\n",
    "\n",
    "    user = {'이름':name, '나이':age, 'e-mail':email}\n",
    "    filename = 'user1.json'\n",
    "\n",
    "    # 파일에 저장\n",
    "    with open(filename, 'w', encoding='utf-8') as f:\n",
    "        json.dump(user, f, ensure_ascii=False, indent=4)\n",
    "        print(\"저장을 완료했습니다.\")\n",
    "\n",
    "    # 파일 내용을 읽고 출력\n",
    "    with open(filename, 'r', encoding='utf-8') as f:\n",
    "        read_user = json.load(f)\n",
    "    \n",
    "    print(json.dumps(read_user, ensure_ascii=False, indent=4))\n",
    "\n",
    "except ValueError as e:\n",
    "    print(f'유저 생성 오류 : {e}')\n",
    "except Exception as e:\n",
    "    print(f'오류 : {e}')"
   ]
  },
  {
   "cell_type": "markdown",
   "metadata": {},
   "source": [
    "5. Database 연동\n",
    "\n",
    "문제:\n",
    "\n",
    "SQLite 데이터베이스에 사용자 정보를 저장하고, 저장된 데이터를 조회하여 출력하는 프로그램을 작성하세요.\n",
    "\n",
    "테이블은 users로 하고, id, name, age, email 컬럼을 포함합니다."
   ]
  },
  {
   "cell_type": "code",
   "execution_count": 8,
   "metadata": {},
   "outputs": [
    {
     "name": "stdout",
     "output_type": "stream",
     "text": [
      "사용자 정보가 저장되었습니다.\n",
      "사용자 정보 출력\n",
      "(1, '장세현', 26, 'sucruba70@naver.com')\n",
      "(2, '김이두', 122, 'ssss@naver.com')\n",
      "(3, '라이언', 78, 'ryan@google.com')\n"
     ]
    }
   ],
   "source": [
    "import sqlite3\n",
    "import re\n",
    "\n",
    "conn = sqlite3.connect('user1.db')\n",
    "c = conn.cursor()\n",
    "\n",
    "c.execute('''CREATE TABLE IF NOT EXISTS users\n",
    "         (id INTEGER PRIMARY KEY AUTOINCREMENT,\n",
    "         name CHAR NOT NULL,\n",
    "         age INT NOT NULL,\n",
    "         email CHAR NOT NULL)''')\n",
    "\n",
    "conn.commit()\n",
    "\n",
    "try:\n",
    "    # 1번에 만든 함수 활용\n",
    "\n",
    "    name = input(\"이름:\")\n",
    "    age = input(\"나이:\")\n",
    "    email = input(\"e-mail:\")\n",
    "\n",
    "    name = validate_name(name)\n",
    "    age = validate_age(age)\n",
    "    email = validate_email(email)\n",
    "\n",
    "    c.execute('''INSERT INTO users (name,age,email) VALUES(?, ?, ?)''', (name, age, email))\n",
    "    conn.commit()\n",
    "    print('사용자 정보가 저장되었습니다.', end='\\n')\n",
    "\n",
    "    c.execute('SELECT * FROM users')\n",
    "    users = c.fetchall()\n",
    "    print('사용자 정보 출력')\n",
    "    for i in users:\n",
    "        print(i)\n",
    "\n",
    "except ValueError as e:\n",
    "    print(f'입력 오류 : {e}')\n",
    "except sqlite3.Error as e:\n",
    "    print(f'데이터베이스 오류 : {e}')\n",
    "\n",
    "finally:\n",
    "    conn.close()"
   ]
  },
  {
   "cell_type": "markdown",
   "metadata": {},
   "source": [
    "6. 예외 처리\n",
    "\n",
    "문제:\n",
    "\n",
    "사용자로부터 숫자를 입력받아, 그 숫자를 10으로 나누는 프로그램을 작성하세요.\n",
    "\n",
    "0으로 나누는 경우와 숫자가 아닌 값을 입력받는 경우를 처리하세요."
   ]
  },
  {
   "cell_type": "code",
   "execution_count": 10,
   "metadata": {},
   "outputs": [
    {
     "name": "stdout",
     "output_type": "stream",
     "text": [
      "결과 : 0.0\n"
     ]
    }
   ],
   "source": [
    "try:\n",
    "    num = float(input(\"숫자를 입력하세요:\"))\n",
    "    print(f'결과 : {num/10}')\n",
    "\n",
    "except ValueError:\n",
    "    print('오류 : 유효하지 않은 숫자입니다.')\n",
    "except ZeroDivisionError:\n",
    "    print('0으로 나눌 수 없습니다.')"
   ]
  }
 ],
 "metadata": {
  "kernelspec": {
   "display_name": "SeHyun",
   "language": "python",
   "name": "python3"
  },
  "language_info": {
   "codemirror_mode": {
    "name": "ipython",
    "version": 3
   },
   "file_extension": ".py",
   "mimetype": "text/x-python",
   "name": "python",
   "nbconvert_exporter": "python",
   "pygments_lexer": "ipython3",
   "version": "3.10.14"
  }
 },
 "nbformat": 4,
 "nbformat_minor": 2
}
