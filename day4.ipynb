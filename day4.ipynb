{
 "cells": [
  {
   "cell_type": "markdown",
   "metadata": {},
   "source": [
    "## 과제 1: Collections 모듈 활용\n",
    "\n",
    "### EXAMPLE_SEQUENCE 값을 활용해보세요.\n",
    "\n",
    "1. Deque: Deque를 생성하고, 요소를 추가하고 제거하는 작업을 해보세요.\n",
    "\n",
    "2. Namedtuple: Namedtuple을 정의하고 인스턴스를 생성해보세요.\n",
    "\n",
    "3. Defaultdict: Defaultdict를 사용해보세요. 키가 없을 때 기본값을 설정하세요.\n",
    "\n",
    "4. Counter: Counter를 사용해 리스트에서 각 요소의 빈도를 세어보세요."
   ]
  },
  {
   "cell_type": "code",
   "execution_count": 6,
   "metadata": {},
   "outputs": [],
   "source": [
    "from collections import deque, namedtuple, defaultdict, Counter\n",
    "EXAMPLE_SEQUENCE = ['dog', 'cat', 'mouse', 'parrot', 'frog']"
   ]
  },
  {
   "cell_type": "markdown",
   "metadata": {},
   "source": [
    "1. Deque: Deque를 생성하고, 요소를 추가하고 제거하는 작업을 해보세요."
   ]
  },
  {
   "cell_type": "code",
   "execution_count": 7,
   "metadata": {},
   "outputs": [
    {
     "name": "stdout",
     "output_type": "stream",
     "text": [
      "deque(['dog', 'cat', 'mouse', 'parrot', 'frog'])\n",
      "deque(['cat', 'mouse', 'parrot', 'frog'])\n",
      "deque(['dog', 'cat', 'mouse', 'parrot', 'frog', 'cow'])\n"
     ]
    }
   ],
   "source": [
    "dq = deque(EXAMPLE_SEQUENCE)\n",
    "print(dq)\n",
    "dq.popleft()\n",
    "print(dq)\n",
    "dq.append('cow')\n",
    "dq.appendleft('dog')\n",
    "print(dq)"
   ]
  },
  {
   "cell_type": "markdown",
   "metadata": {},
   "source": [
    "2. Namedtuple: Namedtuple을 정의하고 인스턴스를 생성해보세요."
   ]
  },
  {
   "cell_type": "code",
   "execution_count": 21,
   "metadata": {},
   "outputs": [
    {
     "name": "stdout",
     "output_type": "stream",
     "text": [
      "Animal(name='dog', age=2)\n",
      "Animal(name='cat', age=3)\n"
     ]
    }
   ],
   "source": [
    "Animal = namedtuple('Animal', 'name age')\n",
    "ages = [2, 3, 2, 4, 5]\n",
    "\n",
    "dog = Animal(name=EXAMPLE_SEQUENCE[0], age=ages[0])\n",
    "cat = Animal(name=EXAMPLE_SEQUENCE[1], age=ages[1])\n",
    "print(dog,cat, sep='\\n')"
   ]
  },
  {
   "cell_type": "markdown",
   "metadata": {},
   "source": [
    "3. Defaultdict: Defaultdict를 사용해보세요. 키가 없을 때 기본값을 설정하세요."
   ]
  },
  {
   "cell_type": "code",
   "execution_count": 26,
   "metadata": {},
   "outputs": [
    {
     "name": "stdout",
     "output_type": "stream",
     "text": [
      "defaultdict(<class 'int'>, {'dog': 1, 'cat': 1, 'mouse': 1, 'parrot': 1, 'frog': 1})\n",
      "defaultdict(<class 'int'>, {'dog': 3, 'cat': 2, 'mouse': 1, 'parrot': 1, 'frog': 1})\n"
     ]
    }
   ],
   "source": [
    "dct1 = defaultdict(int)\n",
    "for animal in EXAMPLE_SEQUENCE:\n",
    "    dct1[animal] += 1\n",
    "print(dct1)\n",
    "\n",
    "EXAMPLE_SEQUENCE2 = ['dog', 'cat', 'mouse', 'parrot', 'frog', 'dog', 'cat', 'dog']\n",
    "dct2 = defaultdict(int)\n",
    "for animal in EXAMPLE_SEQUENCE2:\n",
    "    dct2[animal] +=1\n",
    "print(dct2)"
   ]
  },
  {
   "cell_type": "markdown",
   "metadata": {},
   "source": [
    "4. Counter: Counter를 사용해 리스트에서 각 요소의 빈도를 세어보세요."
   ]
  },
  {
   "cell_type": "code",
   "execution_count": 28,
   "metadata": {},
   "outputs": [
    {
     "name": "stdout",
     "output_type": "stream",
     "text": [
      "Counter({'dog': 1, 'cat': 1, 'mouse': 1, 'parrot': 1, 'frog': 1})\n",
      "Counter({'dog': 3, 'cat': 2, 'mouse': 1, 'parrot': 1, 'frog': 1})\n"
     ]
    }
   ],
   "source": [
    "c1 = Counter(EXAMPLE_SEQUENCE)\n",
    "print(c1)\n",
    "c2 = Counter(EXAMPLE_SEQUENCE2)\n",
    "print(c2)"
   ]
  },
  {
   "cell_type": "markdown",
   "metadata": {},
   "source": [
    "## 과제 2: Comprehension 활용\n",
    "\n",
    "### EXAMPLE_SEQUENCE 값을 활용해보세요.\n",
    "\n",
    "1. 리스트 컴프리헨션: 숫자 리스트의 제곱값을 구하세요.\n",
    "\n",
    "2. 딕셔너리 컴프리헨션: 키가 숫자이고 값이 그 숫자의 제곱인 딕셔너리를 생성하세요.\n",
    "\n",
    "3. 집합 컴프리헨션: 중복된 값을 제거한 제곱값 집합을 생성하세요."
   ]
  },
  {
   "cell_type": "code",
   "execution_count": 29,
   "metadata": {},
   "outputs": [],
   "source": [
    "EXAMPLE_SEQUENCE = [1, 4, 12, 9, 22, 5, 1, 9]"
   ]
  },
  {
   "cell_type": "markdown",
   "metadata": {},
   "source": [
    "1. 리스트 컴프리헨션: 숫자 리스트의 제곱값을 구하세요."
   ]
  },
  {
   "cell_type": "code",
   "execution_count": 30,
   "metadata": {},
   "outputs": [
    {
     "data": {
      "text/plain": [
       "[1, 16, 144, 81, 484, 25, 1, 81]"
      ]
     },
     "execution_count": 30,
     "metadata": {},
     "output_type": "execute_result"
    }
   ],
   "source": [
    "[x**2 for x in EXAMPLE_SEQUENCE]"
   ]
  },
  {
   "cell_type": "markdown",
   "metadata": {},
   "source": [
    "2. 딕셔너리 컴프리헨션: 키가 숫자이고 값이 그 숫자의 제곱인 딕셔너리를 생성하세요.\n"
   ]
  },
  {
   "cell_type": "code",
   "execution_count": 31,
   "metadata": {},
   "outputs": [
    {
     "data": {
      "text/plain": [
       "{1: 1, 4: 16, 12: 144, 9: 81, 22: 484, 5: 25}"
      ]
     },
     "execution_count": 31,
     "metadata": {},
     "output_type": "execute_result"
    }
   ],
   "source": [
    "{x : x**2 for x in EXAMPLE_SEQUENCE}"
   ]
  },
  {
   "cell_type": "markdown",
   "metadata": {},
   "source": [
    "3. 집합 컴프리헨션: 중복된 값을 제거한 제곱값 집합을 생성하세요."
   ]
  },
  {
   "cell_type": "code",
   "execution_count": 33,
   "metadata": {},
   "outputs": [
    {
     "data": {
      "text/plain": [
       "{1, 16, 25, 81, 144, 484}"
      ]
     },
     "execution_count": 33,
     "metadata": {},
     "output_type": "execute_result"
    }
   ],
   "source": [
    "{x**2 for x in EXAMPLE_SEQUENCE}"
   ]
  },
  {
   "cell_type": "markdown",
   "metadata": {},
   "source": [
    "## 과제 3: Logging 활용\n",
    "\n",
    "1. 기본 로깅 설정: 로깅을 설정하고 정보를 로깅하세요. 로그의 형태는 '시간 - 에러레벨 - 메시지' 입니다.\n",
    "\n",
    "2. 예외 로깅: 예외가 발생했을 때 에러를 로깅하세요."
   ]
  },
  {
   "cell_type": "markdown",
   "metadata": {},
   "source": [
    "1. 기본 로깅 설정: 로깅을 설정하고 정보를 로깅하세요. 로그의 형태는 '시간 - 에러레벨 - 메시지' 입니다."
   ]
  },
  {
   "cell_type": "code",
   "execution_count": null,
   "metadata": {},
   "outputs": [],
   "source": []
  },
  {
   "cell_type": "markdown",
   "metadata": {},
   "source": [
    "2. 예외 로깅: 예외가 발생했을 때 에러를 로깅하세요."
   ]
  },
  {
   "cell_type": "markdown",
   "metadata": {},
   "source": [
    "## 과제 4: 정규 표현식 사용\n",
    "\n",
    "1. 기본 패턴 매칭: 이메일 주소를 추출하세요.\n",
    "\n",
    "2. 기본 패턴 매칭: 비식별화를 진행하세요. ID를 앞 3글자 이외는 모두 '*'로 변경합니다.\n",
    "\n",
    "3. 고급 패턴 매칭: HTML 태그를 제거하세요."
   ]
  },
  {
   "cell_type": "code",
   "execution_count": 34,
   "metadata": {},
   "outputs": [],
   "source": [
    "import re"
   ]
  },
  {
   "cell_type": "markdown",
   "metadata": {},
   "source": [
    "1. 기본 패턴 매칭: 이메일 주소를 추출하세요."
   ]
  },
  {
   "cell_type": "code",
   "execution_count": 41,
   "metadata": {},
   "outputs": [
    {
     "name": "stdout",
     "output_type": "stream",
     "text": [
      "['kakaotech@goorm.io']\n",
      "['kakaotech@goorm.io', 'example@example.com', 'user.name+tag@example.co', 'user_name@example.co', 'user-name@example.io']\n"
     ]
    }
   ],
   "source": [
    "email = \"MY name is Jhin, my email is kakaotech@goorm.io\"\n",
    "\n",
    "pattern = r'\\b[0-9a-zA-Z_.+-]{3,}@[a-zA-Z0-9]+\\.[a-zA-Z0-9]{2,6}\\b'\n",
    "\n",
    "matches = re.findall(pattern, email)\n",
    "print(matches)\n",
    "\n",
    "emails = [\n",
    "    \"MY name is Jhin, my email is kakaotech@goorm.io\",\n",
    "    \"example@example.com\",    \n",
    "    \"user.name+tag@example.co.uk\", \n",
    "    \"user_name@example.co\",   \n",
    "    \"user-name@example.io\",   \n",
    "    \"ex@example.com\",         \n",
    "    \"example@.com\",          \n",
    "    \"example@domain.abcdefgh\",\n",
    "]\n",
    "m = []\n",
    "for e in emails:\n",
    "    m.extend(re.findall(pattern, e))\n",
    "\n",
    "print(m)"
   ]
  },
  {
   "cell_type": "markdown",
   "metadata": {},
   "source": [
    "2. 기본 패턴 매칭: 비식별화를 진행하세요. ID를 앞 3글자 이외는 모두 '*'로 변경합니다.\n"
   ]
  },
  {
   "cell_type": "code",
   "execution_count": 56,
   "metadata": {},
   "outputs": [
    {
     "data": {
      "text/plain": [
       "['jhi*', 'lov*', '세종대*', 'twi*', 'Pos*']"
      ]
     },
     "execution_count": 56,
     "metadata": {},
     "output_type": "execute_result"
    }
   ],
   "source": [
    "id_list = [\"jhin.lee\", \"lovelove123\", \"세종대왕만세!!\", \"twin에너지123\", \"PostModern\"]\n",
    "\n",
    "pattern = r'(?<=^.{3}).*'\n",
    "\n",
    "for id in id_list:\n",
    "    new = ''\n",
    "    for i in id:\n",
    "        if len(new) > 3:"
   ]
  },
  {
   "cell_type": "code",
   "execution_count": 57,
   "metadata": {},
   "outputs": [
    {
     "name": "stdout",
     "output_type": "stream",
     "text": [
      "['jhi*****', 'lov********', '세종대*****', 'twi*******', 'Pos*******']\n"
     ]
    }
   ],
   "source": [
    "import re\n",
    "\n",
    "id_list = [\"jhin.lee\", \"lovelove123\", \"세종대왕만세!!\", \"twin에너지123\", \"PostModern\"]\n",
    "\n",
    "def an(id):\n",
    "    # 처음 3글자는 그대로 두고 나머지를 *로 대체\n",
    "    if len(id) > 3:\n",
    "        return id[:3] + re.sub(r'.', '*', id[3:])\n",
    "    else:\n",
    "        return id  # 만약 ID가 3글자 이하라면 그대로 반환\n",
    "\n",
    "anonymized_list = [an(id) for id in id_list]\n",
    "print(anonymized_list)\n"
   ]
  },
  {
   "cell_type": "code",
   "execution_count": 44,
   "metadata": {},
   "outputs": [
    {
     "name": "stdout",
     "output_type": "stream",
     "text": [
      "jhi*.lee\n",
      "lov*love123\n",
      "세종대*만세!!\n",
      "twi*에너지123\n",
      "Pos*Modern\n",
      "Original IDs: ['jhin.lee', 'lovelove123', '세종대왕만세!!', 'twin에너지123', 'PostModern']\n",
      "Anonymized IDs: ['jhi*.lee', 'lov*love123', '세종대*만세!!', 'twi*에너지123', 'Pos*Modern']\n"
     ]
    }
   ],
   "source": [
    "import re\n",
    "\n",
    "# 예제 ID 리스트\n",
    "id_list = [\"jhin.lee\", \"lovelove123\", \"세종대왕만세!!\", \"twin에너지123\", \"PostModern\"]\n",
    "\n",
    "# 비식별화 함수\n",
    "def anonymize_id(id_str):\n",
    "    pattern = r'(?<=^.{3}).'\n",
    "    return re.sub(pattern, '*', id_str)\n",
    "\n",
    "# 새 ID 리스트를 저장할 리스트\n",
    "new_id_list = []\n",
    "\n",
    "# 각 ID를 비식별화하고 출력\n",
    "for i in id_list:\n",
    "    new_id = anonymize_id(i)\n",
    "    new_id_list.append(new_id)\n",
    "    print(new_id)\n",
    "\n",
    "# 결과 확인\n",
    "print(\"Original IDs:\", id_list)\n",
    "print(\"Anonymized IDs:\", new_id_list)\n"
   ]
  },
  {
   "cell_type": "markdown",
   "metadata": {},
   "source": [
    "3. 고급 패턴 매칭: HTML 태그를 제거하세요."
   ]
  },
  {
   "cell_type": "code",
   "execution_count": 60,
   "metadata": {},
   "outputs": [
    {
     "name": "stdout",
     "output_type": "stream",
     "text": [
      "Hello, World!\n"
     ]
    }
   ],
   "source": [
    "html = \"<p>Hello, <b>World!</b></p>\"\n",
    "\n",
    "pattern = r'<.*?>'\n",
    "print(re.sub(pattern,'',html))"
   ]
  },
  {
   "cell_type": "markdown",
   "metadata": {},
   "source": [
    "## 과제 5: 멀티스레딩과 멀티프로세싱\n",
    "\n",
    "1. 스레딩: 한 개의 스레드를 생성하고 실행하는 함수를 작성해주세요.\n",
    "\n",
    "2. 멀티스레딩: 두 개의 스레드를 생성하고 실행하세요.\n",
    "\n",
    "3. 멀티프로세싱: 두 개의 프로세스를 생성하고 실행하세요."
   ]
  },
  {
   "cell_type": "markdown",
   "metadata": {},
   "source": [
    "1. 스레딩: 한 개의 스레드를 생성하고 실행하는 함수를 작성해주세요."
   ]
  },
  {
   "cell_type": "code",
   "execution_count": null,
   "metadata": {},
   "outputs": [],
   "source": []
  },
  {
   "cell_type": "markdown",
   "metadata": {},
   "source": [
    "2. 멀티스레딩: 두 개의 스레드를 생성하고 실행하세요.\n"
   ]
  },
  {
   "cell_type": "code",
   "execution_count": null,
   "metadata": {},
   "outputs": [],
   "source": []
  },
  {
   "cell_type": "markdown",
   "metadata": {},
   "source": [
    "3. 멀티프로세싱: 두 개의 프로세스를 생성하고 실행하세요."
   ]
  },
  {
   "cell_type": "code",
   "execution_count": null,
   "metadata": {},
   "outputs": [],
   "source": []
  }
 ],
 "metadata": {
  "kernelspec": {
   "display_name": "SeHyun",
   "language": "python",
   "name": "python3"
  },
  "language_info": {
   "codemirror_mode": {
    "name": "ipython",
    "version": 3
   },
   "file_extension": ".py",
   "mimetype": "text/x-python",
   "name": "python",
   "nbconvert_exporter": "python",
   "pygments_lexer": "ipython3",
   "version": "3.10.14"
  }
 },
 "nbformat": 4,
 "nbformat_minor": 2
}
